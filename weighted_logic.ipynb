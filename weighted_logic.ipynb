{
  "nbformat": 4,
  "nbformat_minor": 0,
  "metadata": {
    "colab": {
      "name": "weighted_logic.ipynb",
      "provenance": []
    },
    "kernelspec": {
      "name": "python3",
      "display_name": "Python 3"
    }
  },
  "cells": [
    {
      "cell_type": "markdown",
      "metadata": {
        "id": "hS4Bs4I3KHDc"
      },
      "source": [
        "# Scribblings Towards a Learnable Weighted Logic Framework\n",
        "\n",
        "This notebook contains partial ideas, scribblings and tests in formulating a weighted logic system that is later used as the basis for the neuro-symbolic rule learning.\n",
        "\n",
        "*It is not meant to make sense as a whole.* It is more of a behind the scenes of the core contribution from the pix2rule paper (https://arxiv.org/abs/2106.07487)."
      ]
    },
    {
      "cell_type": "code",
      "metadata": {
        "id": "h3mEvxKSlaOU"
      },
      "source": [
        "import numpy as np\n",
        "import pandas as pd\n",
        "import altair as alt\n",
        "import tensorflow as tf\n",
        "import seaborn as sns"
      ],
      "execution_count": 2,
      "outputs": []
    },
    {
      "cell_type": "markdown",
      "metadata": {
        "id": "kIOA9FNjLMmc"
      },
      "source": [
        "## Exploration of weighted AND gate\n",
        "\n",
        "In this section, I play around with a simple two input, two weights perceptron. I suppose the goal was to find a simpler formulation of conjunction that does not resort to the confines of a t-norm. The inputs and weights are changeable, and for a given formulation, I was seeing how it responded to the input range $[-1,1]$. Here $b$ is the bias, $z$ is the output."
      ]
    },
    {
      "cell_type": "code",
      "metadata": {
        "colab": {
          "base_uri": "https://localhost:8080/"
        },
        "id": "IJVKyP9MleM_",
        "outputId": "01e27913-1313-4a73-b5b5-f09d36991667"
      },
      "source": [
        "#@title Variables. { run: \"auto\" }\n",
        "\n",
        "x = 0  #@param {type: \"slider\", min: -1, max: 1, step: 1}\n",
        "y = 1  #@param {type: \"slider\", min: -1, max: 1, step: 1}\n",
        "w1 = 3.5  #@param {type: \"slider\", min: -10, max: 10, step: 0.1}\n",
        "w2 = 0.7  #@param {type: \"slider\", min: -10, max: 10, step: 0.1}\n",
        "#k = 1 #@param {type: \"slider\", min: -10, max: 10, step: 0.1}\n",
        "\n",
        "inputs = tf.constant([x,y], dtype=tf.float32)\n",
        "k = tf.reduce_mean(tf.math.abs(inputs))\n",
        "print(\"K:\", k)\n",
        "weights = tf.constant([w1, w2], dtype=tf.float32)\n",
        "#b = tf.math.atanh(k) - k*(w1+w2)\n",
        "abs_sum = tf.reduce_sum(tf.math.abs(weights))\n",
        "#b = k - abs_sum*k\n",
        "b = -tf.reduce_max(weights)*k\n",
        "print(\"B:\", b)\n",
        "z = tf.nn.tanh(tf.reduce_sum(inputs*weights) + b)\n",
        "print(\"Z:\", z)\n",
        "print(\"---\")\n",
        "print(b >= k-abs_sum)\n",
        "print((w1 + b) < k)\n",
        "print((w2 + b) < k)\n",
        "print(b < k)"
      ],
      "execution_count": 3,
      "outputs": [
        {
          "output_type": "stream",
          "name": "stdout",
          "text": [
            "K: tf.Tensor(0.5, shape=(), dtype=float32)\n",
            "B: tf.Tensor(-1.75, shape=(), dtype=float32)\n",
            "Z: tf.Tensor(-0.78180635, shape=(), dtype=float32)\n",
            "---\n",
            "tf.Tensor(True, shape=(), dtype=bool)\n",
            "tf.Tensor(False, shape=(), dtype=bool)\n",
            "tf.Tensor(True, shape=(), dtype=bool)\n",
            "tf.Tensor(True, shape=(), dtype=bool)\n"
          ]
        }
      ]
    },
    {
      "cell_type": "markdown",
      "metadata": {
        "id": "ag0l9nmWL6Zl"
      },
      "source": [
        "## The Weighted Gate and Learnable Atom\n",
        "\n",
        "Putting together some of the early ideas above, I was experimenting with learnable version. If there is some hope for setting a bias as a threshold for achieving a conjunction, then we should be able to learn the weights of the connections. This leads to a weighted gate, a naive learnable gate with a controllable bias to elicit the desired gate $\\land, \\lor$ behaviour. It is the precursor to the more polished semi-symbolic layer.\n",
        "\n",
        "The learnable atom is follows the idea that we can also train the inputs. Suppose we have a conjunction with an output of 1, then we know both inputs should be 1 too. So after training a weighted gate to behave like a conjunction, I was playing with the idea of learning inputs and see if it was behaving properly. This was to fulfill the requirement of potentially having upstream networks such as CNNs which would be trained as well.\n",
        "\n",
        "But something was amiss. I couldn't formulate a clean, elegant version. I knew something was going on with the bias and it was key ingreadient. So when playing around with this setup, I decided to just train a regular perceptron / linear layer to learn conjunction over randomly generated data. (read next part to see what happens)"
      ]
    },
    {
      "cell_type": "code",
      "metadata": {
        "colab": {
          "base_uri": "https://localhost:8080/"
        },
        "id": "bXytQM3rmCWI",
        "outputId": "94492a71-7b4d-41b7-91a3-9a5f548d0bf2"
      },
      "source": [
        "class LearnableAtom(tf.keras.layers.Layer):\n",
        "    \"\"\"Learnable inputs.\"\"\"\n",
        "    def __init__(self, size: int, **kwargs):\n",
        "        super().__init__(**kwargs)\n",
        "        self.size = size\n",
        "        self.atoms = self.add_weight(\n",
        "            name='weights',\n",
        "            shape=(size,),\n",
        "            initializer=tf.keras.initializers.RandomNormal(mean=0.0, stddev=1.00)\n",
        "        )\n",
        "\n",
        "    def call(self, inputs, **kwargs):\n",
        "        \"\"\"Append weight to inputs.\"\"\"  \n",
        "        # inputs (B, X)\n",
        "        atoms = tf.nn.tanh(self.atoms) # (size,)\n",
        "        batch_atoms = tf.repeat(atoms[None], tf.shape(inputs)[0], axis=0) # (B, size)\n",
        "        return tf.concat([inputs[:, :-self.size], batch_atoms], -1) # (B, X)\n",
        "\n",
        "def binary_entropy(tensor: tf.Tensor):\n",
        "    \"\"\"Compute binary entropy of a given tensor.\"\"\"\n",
        "    # (...)\n",
        "    tensor = tf.clip_by_value(tensor, 0.00001, 0.99999)\n",
        "    merged = tf.stack([tensor, 1-tensor], -1) # (..., 2)\n",
        "    entropy = -tf.reduce_sum(merged*tf.math.log(merged), -1) # (...)\n",
        "    return entropy\n",
        "\n",
        "class WeightedGate(tf.keras.layers.Layer):\n",
        "    \"\"\"Weighted conjunction or disjunction layer.\"\"\"\n",
        "    def __init__(self, gate_type: str = \"AND\", **kwargs):\n",
        "        super().__init__(**kwargs)\n",
        "        self.gate_type = gate_type\n",
        "\n",
        "    def build(self, input_shape: tf.TensorShape):\n",
        "        \"\"\"Add layer weights.\"\"\"\n",
        "        self.kernel = self.add_weight(\n",
        "            name='kernel',\n",
        "            shape=(input_shape[-1],)\n",
        "        )\n",
        "    \n",
        "    def call(self, inputs, **kwargs):\n",
        "        \"\"\"Forward pass\"\"\"\n",
        "        # Inputs (B, 2)\n",
        "        conjunct = tf.reduce_sum(inputs*self.kernel, -1) # (B,)\n",
        "        in_abs_mean = tf.reduce_mean(tf.math.abs(inputs), -1) # (B,)\n",
        "        wsum = tf.reduce_sum(tf.math.abs(self.kernel)) # ()\n",
        "        #bias = tf.reduce_max(tf.math.abs(self.kernel))*(self.kernel.shape[-1]-1) # ()\n",
        "        k = in_abs_mean * 5\n",
        "        k = 5\n",
        "        if self.gate_type == 'AND':\n",
        "            bias = k - wsum\n",
        "        else:\n",
        "            bias = wsum - k\n",
        "        self.add_metric(bias, name='bias')\n",
        "        return tf.nn.tanh(conjunct + bias)\n",
        "\n",
        "gate_type = \"AND\"\n",
        "in_size = 6\n",
        "\n",
        "model = tf.keras.Sequential([tf.keras.layers.Dense(1, activation='tanh')])\n",
        "#model = tf.keras.Sequential([WeightedGate(gate_type=gate_type)])\n",
        "#model = tf.keras.Sequential([LearnableAtom(size=in_size-2), WeightedGate(gate_type=gate_type)])\n",
        "model.compile(optimizer='adam', loss='hinge')\n",
        "\n",
        "\n",
        "rnds = np.random.choice([-1,1], size=(100000, in_size))\n",
        "if gate_type == \"AND\":\n",
        "    success_case = np.array([1]*60)\n",
        "    success_case = np.random.choice([-1,1], size=(in_size,))\n",
        "    print(success_case)\n",
        "    neg_idxs = np.flatnonzero(np.any(rnds != success_case, -1))\n",
        "    inputs = np.concatenate([np.tile(success_case[None], [len(neg_idxs), 1]), rnds[neg_idxs]])\n",
        "    #inputs = np.tile(success_case[None], [50000, 1])\n",
        "    np.random.shuffle(inputs)\n",
        "    targets = np.all(inputs == success_case, -1)\n",
        "elif gate_type == \"OR\":\n",
        "    #fail_case = np.array([1, 0, 1, 1, 0, 1])\n",
        "    fail_case = np.random.choice([-1,1], size=(in_size,))\n",
        "    print(fail_case)\n",
        "    pos_idxs = np.flatnonzero(np.any(rnds != fail_case, -1))\n",
        "    inputs = np.concatenate([np.tile(fail_case[None], [len(pos_idxs), 1]), rnds[pos_idxs]])\n",
        "    np.random.shuffle(inputs)\n",
        "    targets = np.any(inputs != fail_case, -1)\n",
        "#inputs = np.concatenate([inputs, 1-inputs], -1)\n",
        "print(\"Targets:\", np.unique(targets, return_counts=True))\n",
        "#rands = np.random.randint(-1, 1, size=len(inputs))\n",
        "#inputs = np.concatenate([inputs, rands[:, None]], -1)\n",
        "inputs = inputs.astype(np.float32)\n",
        "print(inputs[:10])\n",
        "print(targets[:10])\n",
        "print(model(inputs[:10]))\n",
        "\n",
        "model.fit(inputs, targets, epochs=5)"
      ],
      "execution_count": 4,
      "outputs": [
        {
          "output_type": "stream",
          "name": "stdout",
          "text": [
            "[-1  1  1  1  1  1]\n",
            "Targets: (array([False,  True]), array([98422, 98422]))\n",
            "[[ 1. -1.  1.  1.  1.  1.]\n",
            " [ 1.  1. -1.  1.  1. -1.]\n",
            " [ 1.  1.  1.  1.  1. -1.]\n",
            " [ 1.  1.  1. -1.  1.  1.]\n",
            " [-1.  1. -1.  1.  1. -1.]\n",
            " [-1.  1.  1.  1.  1.  1.]\n",
            " [-1. -1.  1. -1.  1.  1.]\n",
            " [-1.  1.  1.  1.  1.  1.]\n",
            " [ 1.  1.  1. -1.  1.  1.]\n",
            " [ 1. -1.  1. -1. -1.  1.]]\n",
            "[False False False False False  True False  True False False]\n",
            "tf.Tensor(\n",
            "[[ 0.38922578]\n",
            " [ 0.64359933]\n",
            " [ 0.9356103 ]\n",
            " [ 0.9385686 ]\n",
            " [-0.11534204]\n",
            " [ 0.00795163]\n",
            " [ 0.3526999 ]\n",
            " [ 0.00795163]\n",
            " [ 0.9385686 ]\n",
            " [ 0.11534204]], shape=(10, 1), dtype=float32)\n",
            "Epoch 1/5\n",
            "6152/6152 [==============================] - 8s 1ms/step - loss: 0.2150\n",
            "Epoch 2/5\n",
            "6152/6152 [==============================] - 7s 1ms/step - loss: 0.0581\n",
            "Epoch 3/5\n",
            "6152/6152 [==============================] - 7s 1ms/step - loss: 0.0300\n",
            "Epoch 4/5\n",
            "6152/6152 [==============================] - 7s 1ms/step - loss: 0.0156\n",
            "Epoch 5/5\n",
            "6152/6152 [==============================] - 7s 1ms/step - loss: 0.0080\n"
          ]
        },
        {
          "output_type": "execute_result",
          "data": {
            "text/plain": [
              "<keras.callbacks.History at 0x7fa871ce2590>"
            ]
          },
          "metadata": {},
          "execution_count": 4
        }
      ]
    },
    {
      "cell_type": "markdown",
      "metadata": {
        "id": "g8GdujhnNcne"
      },
      "source": [
        "So we know a linear layer can model conjunction, but what is the key ingredient that allows it to do so. Because I did not want to restrict the weights and had a hunch the bias would do the trick, I focused on the bias of a linear layer that has been trained on AND and OR data."
      ]
    },
    {
      "cell_type": "code",
      "metadata": {
        "colab": {
          "base_uri": "https://localhost:8080/"
        },
        "id": "M8ST5_3YHWBu",
        "outputId": "86a76db0-70d1-4ebd-ae58-eecb2a76e4af"
      },
      "source": [
        "model.get_weights()"
      ],
      "execution_count": null,
      "outputs": [
        {
          "output_type": "execute_result",
          "data": {
            "text/plain": [
              "[array([[-2.347875 ],\n",
              "        [-2.3537643],\n",
              "        [-2.3534436],\n",
              "        [ 2.3352349],\n",
              "        [-2.3527102],\n",
              "        [-2.3574061]], dtype=float32), array([-11.024802], dtype=float32)]"
            ]
          },
          "metadata": {
            "tags": []
          },
          "execution_count": 4
        }
      ]
    },
    {
      "cell_type": "markdown",
      "metadata": {
        "id": "AcZZTEQxNt7s"
      },
      "source": [
        "It seems to converge to something along the lines of $\\sum |w_i| - w_i$ where $w_i$ is one of the weights which all seem to of equal magnitude. But if I was to learn rules, the magnitude would naturally change and there would be more noise than a clean conjunction dataset used here."
      ]
    },
    {
      "cell_type": "code",
      "metadata": {
        "colab": {
          "base_uri": "https://localhost:8080/"
        },
        "id": "2tYB5YBalCnW",
        "outputId": "e8f76695-240c-4392-c2c7-5f756c677183"
      },
      "source": [
        "tensor = tf.constant([0.6, 0.5])\n",
        "ttensor = tensor*2-1\n",
        "print(binary_entropy(tensor))\n",
        "print(1-tf.square(ttensor))"
      ],
      "execution_count": null,
      "outputs": [
        {
          "output_type": "stream",
          "text": [
            "tf.Tensor([0.67301166 0.6931472 ], shape=(2,), dtype=float32)\n",
            "tf.Tensor([0.96 1.  ], shape=(2,), dtype=float32)\n"
          ],
          "name": "stdout"
        }
      ]
    },
    {
      "cell_type": "markdown",
      "metadata": {
        "id": "r6wpOgYCOC5i"
      },
      "source": [
        "I was keen to regularise the model so far using entropy to get a clearer picture and was tempted to modify weights instead of the bias for a second (a second here is actually a week or two :) ) But restricting the weights would restrict the learning, particularly of upstream parts of the network making an end-to-end learning setup more difficult. So I decided to focus back on the bias."
      ]
    },
    {
      "cell_type": "code",
      "metadata": {
        "colab": {
          "base_uri": "https://localhost:8080/"
        },
        "id": "lxMWTcSymNQI",
        "outputId": "4d057b2c-b629-4fd1-c334-4c2ddb6f9b25"
      },
      "source": [
        "np.abs(model.get_weights()[0]).sum()\n"
      ],
      "execution_count": null,
      "outputs": [
        {
          "output_type": "execute_result",
          "data": {
            "text/plain": [
              "14.100435"
            ]
          },
          "metadata": {
            "tags": []
          },
          "execution_count": 6
        }
      ]
    },
    {
      "cell_type": "markdown",
      "metadata": {
        "id": "7K3a2ki-OZqI"
      },
      "source": [
        "There was something about the absolute value sum of the weights and that acting as a threshold. *I'm sure this is an obvious relation that cleverer people would have known about* but for me it was a slow and steady exploration."
      ]
    },
    {
      "cell_type": "code",
      "metadata": {
        "id": "ZJYHl0wsInpp",
        "colab": {
          "base_uri": "https://localhost:8080/"
        },
        "outputId": "94c22793-83f3-4d74-88d1-90482e33088c"
      },
      "source": [
        "inputs = np.array([[1,0,1]])\n",
        "inputs = np.concatenate([inputs, 1-inputs], -1)\n",
        "model(inputs)"
      ],
      "execution_count": 7,
      "outputs": [
        {
          "output_type": "execute_result",
          "data": {
            "text/plain": [
              "<tf.Tensor: shape=(1, 1), dtype=float32, numpy=array([[-1.]], dtype=float32)>"
            ]
          },
          "metadata": {},
          "execution_count": 7
        }
      ]
    },
    {
      "cell_type": "markdown",
      "metadata": {
        "id": "22V-A-y_O4Zq"
      },
      "source": [
        "## Towards Semi-symbolic Layer\n",
        "\n",
        "Taking the previous observations forward, I spent time trying to *elegantly* formulate the above failures and findings. At the this stage, I knew something was up with the bias and some thresholding value but it wasn't easy as setting it to a fixed value assuming the weights were trained. That's easy. *The trick was to formulate a simple solution that is robust to training.*\n",
        "\n",
        "You will find many different attempts (some even deleted, overwritten) that eventually led to the semi-symbolic layer used in the project."
      ]
    },
    {
      "cell_type": "code",
      "metadata": {
        "id": "WE3u2q5kwkyB",
        "colab": {
          "base_uri": "https://localhost:8080/"
        },
        "outputId": "b0dec1ed-4236-4aaa-f94a-5b528e58b1a7"
      },
      "source": [
        "def conjunction(tensor: tf.Tensor, kernel: tf.Tensor, threshold: float):\n",
        "    \"\"\"Compute conjunction of given inputs at a certain threshold.\"\"\"\n",
        "    # tensor (..., H), kernel (H,)\n",
        "    tanh_kernel = tf.nn.tanh(kernel)\n",
        "    #and_weights = tanh_kernel * threshold / tf.nn.tanh(threshold)\n",
        "    and_weights = tanh_kernel*6\n",
        "    #print(and_weights)\n",
        "    and_wsum = 1 - tf.reduce_sum(tf.math.abs(tanh_kernel), -1)  # ()\n",
        "    and_bias = threshold * and_wsum  # ()\n",
        "    #print(and_bias)\n",
        "    conjunct_eval = tensor*and_weights # (..., H)\n",
        "    #print(conjunct_eval)\n",
        "    conjuncts = tf.reduce_sum(conjunct_eval, -1) + and_bias  # (...)\n",
        "    #print(conjuncts)\n",
        "    conjuncts = tf.nn.tanh(conjuncts)  # (...)\n",
        "    return conjuncts, and_bias\n",
        "\n",
        "def conjunction2(tensor: tf.Tensor, kernel: tf.Tensor, threshold: float, scale:float=1.0):\n",
        "    \"\"\"Compute conjunction of given elements.\"\"\"\n",
        "    # tensor (..., H), kernel (H,)\n",
        "    abs_kernel = tf.math.abs(kernel) # (H,)\n",
        "    and_bias = tf.reduce_max(abs_kernel, -1)*scale - tf.reduce_sum(abs_kernel) # ()\n",
        "    conjuncts = tf.reduce_sum(tensor * kernel, -1) + threshold*and_bias\n",
        "    return tf.nn.tanh(conjuncts), and_bias\n",
        "    \n",
        "def conjunction3(tensor: tf.Tensor, kernel: tf.Tensor, threshold: float, scale:float=1.0):\n",
        "    \"\"\"Compute conjunction of given elements.\"\"\"\n",
        "    # tensor (..., H), kernel (H,)\n",
        "    abs_kernel = tf.math.abs(kernel) # (H,)\n",
        "    and_bias = tf.reduce_mean(abs_kernel, -1)*scale - tf.reduce_sum(abs_kernel) # ()\n",
        "    conjuncts = tf.reduce_sum(tensor * kernel, -1) + threshold*and_bias\n",
        "    return tf.nn.tanh(conjuncts), and_bias\n",
        "\n",
        "def disjunction2(tensor: tf.Tensor, kernel: tf.Tensor, threshold: float):\n",
        "    \"\"\"Compute disjunction of given elements.\"\"\"\n",
        "    # tensor (..., H), kernel (H,)\n",
        "    abs_kernel = tf.math.abs(kernel) # (H,)\n",
        "    or_bias = tf.reduce_sum(abs_kernel, -1) - tf.reduce_max(abs_kernel, -1) # ()\n",
        "    res = tf.reduce_sum(tensor * kernel, -1) + threshold*or_bias\n",
        "    return tf.nn.tanh(res), or_bias\n",
        "\n",
        "def co_disjunction(tensor: tf.Tensor, kernel: tf.Tensor, threshold:float):\n",
        "    res, bias = conjunction2(-tensor, kernel, threshold)\n",
        "    return -res, bias\n",
        "\n",
        "pre_alpha = 1.00\n",
        "and_kernel = tf.Variable(tf.constant([1.0, 0.3])*4)\n",
        "#and_kernel = tf.Variable(tf.constant([-0.0,  5.53147]))\n",
        "in_tensor = tf.Variable(tf.constant([[1.0, 1.0], [-1.0, 1.0], [1.0, -1.0], [-1.0, -1.0]]))\n",
        "conjunction3(in_tensor, and_kernel, pre_alpha)"
      ],
      "execution_count": 8,
      "outputs": [
        {
          "output_type": "execute_result",
          "data": {
            "text/plain": [
              "(<tf.Tensor: shape=(4,), dtype=float32, numpy=array([ 0.98902744, -0.9999593 ,  0.19737533, -0.99999964], dtype=float32)>,\n",
              " <tf.Tensor: shape=(), dtype=float32, numpy=-2.6>)"
            ]
          },
          "metadata": {},
          "execution_count": 8
        }
      ]
    },
    {
      "cell_type": "markdown",
      "metadata": {
        "id": "vzAxuktMPnz6"
      },
      "source": [
        "## No man's land\n",
        "\n",
        "One thing many people overlook when formulating fuzzy logic is what happens when the values are not at the extremes. It's relatively easy to propose and use formulations that behave well whent he inputs are true, false. But what happens when they are in between.\n",
        "\n",
        "For the above formulations, they seem to work okay when the input tensor `in_tensor` contained values from ${-1,1}$. But to differentiate them and more importantly understand their behaviour, I decided to plot and visually explore what is going on.\n",
        "\n",
        "**Why are the values in between important?** Because when learning end-to-end, most of the time will be spent in this continuous range as opposed to the extremes. Learning features then learning predicates and finally the rules, we need a robust mechanism that behaves well."
      ]
    },
    {
      "cell_type": "code",
      "metadata": {
        "colab": {
          "base_uri": "https://localhost:8080/",
          "height": 386
        },
        "id": "DNiU--vKpVip",
        "outputId": "827d49f9-e8d8-427d-bdfe-2b365d9e467e"
      },
      "source": [
        "plot_vals = {'x': list(), 'y': list(), 'type': list()}\n",
        "for i in np.arange(0.0, 1.0, 0.01):\n",
        "    and_kernel = tf.constant([1.0, i])*2\n",
        "    for ctype, func in [('c2', conjunction2), ('c3', conjunction3)]:\n",
        "        plot_vals['x'].append(i)\n",
        "        res = func(in_tensor, and_kernel, pre_alpha)\n",
        "        plot_vals['y'].append(res[0][2].numpy())\n",
        "        plot_vals['type'].append(ctype)\n",
        "plot_vals = pd.DataFrame(plot_vals)\n",
        "sns.relplot(x='x', y='y', hue='type', kind='line', data=plot_vals)"
      ],
      "execution_count": 9,
      "outputs": [
        {
          "output_type": "execute_result",
          "data": {
            "text/plain": [
              "<seaborn.axisgrid.FacetGrid at 0x7fa87182cc90>"
            ]
          },
          "metadata": {},
          "execution_count": 9
        },
        {
          "output_type": "display_data",
          "data": {
            "image/png": "[encoded data removed]",
            "text/plain": [
              "<Figure size 407.875x360 with 1 Axes>"
            ]
          },
          "metadata": {
            "needs_background": "light"
          }
        }
      ]
    },
    {
      "cell_type": "markdown",
      "metadata": {
        "id": "ycJlUBgcRwb6"
      },
      "source": [
        "Here are some comparisons between different conjunction methods and different scales / delta values. I played around with it more and this is just the last state of affairs."
      ]
    },
    {
      "cell_type": "code",
      "metadata": {
        "colab": {
          "base_uri": "https://localhost:8080/",
          "height": 400
        },
        "id": "VPmm1eqj5OB3",
        "outputId": "96b9caf6-9216-478c-835c-a8332af20a3d"
      },
      "source": [
        "plot_vals = {'x': list(), 'scale': list(), 'y': list()}\n",
        "for i in np.arange(0.1, 6, 0.1):\n",
        "    and_kernel = tf.constant([1.0, 1.0])*i\n",
        "    for scale in [1.0, 0.5]:\n",
        "        res, _ = conjunction2(in_tensor, and_kernel, 1.0, scale=scale)\n",
        "        plot_vals['scale'].append(scale == 0.5)\n",
        "        plot_vals['y'].append(res[0].numpy())\n",
        "        plot_vals['x'].append(i)\n",
        "plot_vals = pd.DataFrame(plot_vals)\n",
        "sns.relplot(x='x', y='y', hue='scale', kind='line', data=plot_vals)"
      ],
      "execution_count": null,
      "outputs": [
        {
          "output_type": "execute_result",
          "data": {
            "text/plain": [
              "<seaborn.axisgrid.FacetGrid at 0x7f103b46f6d0>"
            ]
          },
          "metadata": {
            "tags": []
          },
          "execution_count": 24
        },
        {
          "output_type": "display_data",
          "data": {
            "image/png": "[encoded data removed]",
            "text/plain": [
              "<Figure size 421.25x360 with 1 Axes>"
            ]
          },
          "metadata": {
            "tags": [],
            "needs_background": "light"
          }
        }
      ]
    },
    {
      "cell_type": "markdown",
      "metadata": {
        "id": "azaXat8VSC-K"
      },
      "source": [
        "### Gradual bias\n",
        "\n",
        "The following plot demonstrates how we can gradually adjust this bias value to make the layer behave like a conjunction. Since when the bias is 0, the layer is identical to a linear layer, it showed promise to be used in a larger network with upstream components. As we are training, *why not gradually adjust this?* That's exactly what we did."
      ]
    },
    {
      "cell_type": "code",
      "metadata": {
        "colab": {
          "base_uri": "https://localhost:8080/",
          "height": 400
        },
        "id": "yYn26MlUXYxT",
        "outputId": "f64c9db4-80ce-4a48-e3b4-fb37233234ae"
      },
      "source": [
        "plot_vals = {}\n",
        "for k in np.arange(0.00, 1, 0.05):\n",
        "    and_kernel = tf.constant([4.0, 4.0])\n",
        "    res, _ = conjunction2(in_tensor, and_kernel, k)\n",
        "    res = res.numpy()\n",
        "    for j in np.arange(res.size):\n",
        "        plot_vals.setdefault('y', []).append(res[j])\n",
        "        plot_vals.setdefault('input', []).append(str(in_tensor[j].numpy()))\n",
        "        plot_vals.setdefault('k', []).append(k)\n",
        "plot_vals = pd.DataFrame(plot_vals)\n",
        "sns.relplot(x='k', y='y', hue='input', kind='line', data=plot_vals)"
      ],
      "execution_count": null,
      "outputs": [
        {
          "output_type": "execute_result",
          "data": {
            "text/plain": [
              "<seaborn.axisgrid.FacetGrid at 0x7f9ff74e5cd0>"
            ]
          },
          "metadata": {
            "tags": []
          },
          "execution_count": 18
        },
        {
          "output_type": "display_data",
          "data": {
            "image/png": "[encoded data removed]",
            "text/plain": [
              "<Figure size 433.5x360 with 1 Axes>"
            ]
          },
          "metadata": {
            "tags": [],
            "needs_background": "light"
          }
        }
      ]
    },
    {
      "cell_type": "markdown",
      "metadata": {
        "id": "Zw5f2OZ8SoB2"
      },
      "source": [
        "Another exploration involved the gradient of the inputs. I still was not sure if it would be able to learn upstream components such as CNNs if for example we started to restrict the layer to behave like a conjunction early on. The following are just gradient plots to see what is going on."
      ]
    },
    {
      "cell_type": "code",
      "metadata": {
        "colab": {
          "base_uri": "https://localhost:8080/",
          "height": 1000
        },
        "id": "PNlgqakEeydV",
        "outputId": "66a9b534-3dac-455c-987e-5633ed39e269"
      },
      "source": [
        "target = tf.constant([1, 1, 1, -1])\n",
        "in_tensor = tf.Variable(tf.constant([[1.0, 1.0], [-1.0, 1.0], [1.0, -1.0], [-1.0, -1.0]]))\n",
        "and_kernel = tf.Variable(tf.constant([1.0, 0.3])*4)\n",
        "k_values = np.arange(0.1, 1, 0.1, dtype=np.float32)\n",
        "k_losses = list()\n",
        "k_bias = list()\n",
        "k_gradients = list()\n",
        "in_gradients = list()\n",
        "for k in k_values:\n",
        "    with tf.GradientTape() as tape:\n",
        "        preds, and_bias = conjunction2(in_tensor, and_kernel, k)\n",
        "        loss = tf.keras.losses.hinge(target, preds)\n",
        "    kernel_g, in_g = tape.gradient(loss, [and_kernel, in_tensor])\n",
        "    in_g = tf.reshape(in_g, (-1,))\n",
        "    k_gradients.append(kernel_g)\n",
        "    in_gradients.append(in_g)\n",
        "    k_losses.append(loss)\n",
        "    k_bias.append(and_bias)\n",
        "k_losses = np.array(k_losses)\n",
        "k_gradients = np.array(k_gradients)\n",
        "in_gradients = np.array(in_gradients)\n",
        "k_bias = np.array(k_bias)\n",
        "d_dict = {'k': k_values, 'loss': k_losses, 'bias': k_bias}\n",
        "for i in range(k_gradients.shape[1]):\n",
        "    d_dict[f'k_g{i}'] = k_gradients[:, i]\n",
        "for i in range(in_gradients.shape[1]):\n",
        "    d_dict[f'in_g{i}'] = in_gradients[:, i]\n",
        "dframe = pd.DataFrame(d_dict)\n",
        "dframe = pd.melt(dframe, id_vars='k')\n",
        "sns.relplot(x='k', y='value', col='variable', col_wrap=4, facet_kws={'sharey': False, 'sharex': True}, data=dframe)"
      ],
      "execution_count": 17,
      "outputs": [
        {
          "output_type": "stream",
          "name": "stdout",
          "text": [
            "tf.Tensor([-0.00182765  0.00245886], shape=(2,), dtype=float32) tf.Tensor(\n",
            "[[-1.5484687e-04 -4.6454064e-05]\n",
            " [-1.1567799e-02 -3.4703400e-03]\n",
            " [-1.8628052e-02 -5.5884155e-03]\n",
            " [ 9.5484364e-05  2.8645311e-05]], shape=(4, 2), dtype=float32)\n",
            "tf.Tensor([-0.00369557  0.0052021 ], shape=(2,), dtype=float32) tf.Tensor(\n",
            "[[-1.9692405e-04 -5.9077218e-05]\n",
            " [-9.1108233e-03 -2.7332471e-03]\n",
            " [-2.3620829e-02 -7.0862491e-03]\n",
            " [ 7.5338852e-05  2.2601656e-05]], shape=(4, 2), dtype=float32)\n",
            "tf.Tensor([-0.00576677  0.00840935], shape=(2,), dtype=float32) tf.Tensor(\n",
            "[[-2.4984707e-04 -7.4954121e-05]\n",
            " [-7.1737394e-03 -2.1521219e-03]\n",
            " [-2.9931605e-02 -8.9794816e-03]\n",
            " [ 5.9365346e-05  1.7809605e-05]], shape=(4, 2), dtype=float32)\n",
            "tf.Tensor([-0.00815313  0.01235225], shape=(2,), dtype=float32) tf.Tensor(\n",
            "[[-3.18025093e-04 -9.54075294e-05]\n",
            " [-5.64753078e-03 -1.69425935e-03]\n",
            " [-3.78954299e-02 -1.13686295e-02]\n",
            " [ 4.66102902e-05  1.39830872e-05]], shape=(4, 2), dtype=float32)\n",
            "tf.Tensor([-0.01098014  0.01735216], shape=(2,), dtype=float32) tf.Tensor(\n",
            "[[-4.0407866e-04 -1.2122360e-04]\n",
            " [-4.4450131e-03 -1.3335040e-03]\n",
            " [-4.7925141e-02 -1.4377543e-02]\n",
            " [ 3.6358502e-05  1.0907551e-05]], shape=(4, 2), dtype=float32)\n",
            "tf.Tensor([-0.01439252  0.02379778], shape=(2,), dtype=float32) tf.Tensor(\n",
            "[[-5.1372603e-04 -1.5411782e-04]\n",
            " [-3.4983503e-03 -1.0495051e-03]\n",
            " [-6.0526084e-02 -1.8157827e-02]\n",
            " [ 2.8610026e-05  8.5830079e-06]], shape=(4, 2), dtype=float32)\n",
            "tf.Tensor([-0.0185573   0.03216511], shape=(2,), dtype=float32) tf.Tensor(\n",
            "[[-6.5292185e-04 -1.9587656e-04]\n",
            " [-2.7529101e-03 -8.2587305e-04]\n",
            " [-7.6306418e-02 -2.2891926e-02]\n",
            " [ 2.2768845e-05  6.8306540e-06]], shape=(4, 2), dtype=float32)\n",
            "tf.Tensor([-0.02366765  0.04303705], shape=(2,), dtype=float32) tf.Tensor(\n",
            "[[-8.2988205e-04 -2.4896461e-04]\n",
            " [-2.1660507e-03 -6.4981525e-04]\n",
            " [-9.5988765e-02 -2.8796630e-02]\n",
            " [ 1.8000521e-05  5.4001566e-06]], shape=(4, 2), dtype=float32)\n",
            "tf.Tensor([-0.02994443  0.05712045], shape=(2,), dtype=float32) tf.Tensor(\n",
            "[[-1.0552006e-03 -3.1656018e-04]\n",
            " [-1.7044428e-03 -5.1133288e-04]\n",
            " [-1.2041289e-01 -3.6123868e-02]\n",
            " [ 1.4066647e-05  4.2199945e-06]], shape=(4, 2), dtype=float32)\n"
          ]
        },
        {
          "output_type": "execute_result",
          "data": {
            "text/plain": [
              "<seaborn.axisgrid.FacetGrid at 0x7fa866068110>"
            ]
          },
          "metadata": {},
          "execution_count": 17
        },
        {
          "output_type": "display_data",
          "data": {
            "image/png": "[encoded data removed]",
            "text/plain": [
              "<Figure size 1440x1080 with 12 Axes>"
            ]
          },
          "metadata": {
            "needs_background": "light"
          }
        }
      ]
    },
    {
      "cell_type": "markdown",
      "metadata": {
        "id": "ig18zR_SVXo6"
      },
      "source": [
        "## Failed disjunction\n",
        "\n",
        "This was another side-quest in trying to bound the weights using tanh. While the above formulation was closer to that of a linear layer, it was unbounded and difficult to interpret. When trained, there wasn't a direct way of understanding the magnitude of the weights. So here, a small attempt was to bound the weights using tanh as well, but restricting the weights as mentioned before, hampered learning."
      ]
    },
    {
      "cell_type": "code",
      "metadata": {
        "colab": {
          "base_uri": "https://localhost:8080/"
        },
        "id": "jDgyJT3p343g",
        "outputId": "9e9ca60d-0cf5-4589-8b43-06453273cd3f"
      },
      "source": [
        "def disjunction(tensor: tf.Tensor, kernel: tf.Tensor, threshold: float):\n",
        "    \"\"\"Compute weighted disjunction of given inputs at a certain threshold.\"\"\"\n",
        "    # tensor (..., H), kernel (H,)\n",
        "    tanh_kernel = tf.nn.tanh(kernel)  # (H,)\n",
        "    or_weights = (\n",
        "        tanh_kernel\n",
        "        * threshold\n",
        "        / tf.nn.tanh(threshold)\n",
        "    )  # (H,)\n",
        "    kernel_sum = tf.reduce_sum(tf.math.abs(tanh_kernel), -1) - 1  # ()\n",
        "    disj_bias = kernel_sum * threshold  # (RX,)\n",
        "    disj = (\n",
        "        tf.reduce_sum(tensor * or_weights, -1) + disj_bias\n",
        "    )  # (B, ..., RX)\n",
        "    return disj\n",
        "pre_alpha = 6.00\n",
        "or_kernel = np.array([tf.math.atanh(0.5), 7.90682, 7.5999 ], dtype=np.float32)\n",
        "#or_kernel = tf.constant([-1.0, 1.0]*19 + [-1.0, 1.0])*pre_alpha\n",
        "#in_tensor = tf.constant([[1.0, 1.0], [-1.0, 1.0], [1.0, -1.0], [-1.0, -1.0]])\n",
        "#in_tensor = tf.constant([1.0,-1.0]*20)\n",
        "in_tensor = tf.constant([1.0, -1.0, -1.0])\n",
        "disjunction(in_tensor, or_kernel, pre_alpha)"
      ],
      "execution_count": 18,
      "outputs": [
        {
          "output_type": "execute_result",
          "data": {
            "text/plain": [
              "<tf.Tensor: shape=(), dtype=float32, numpy=-0.00011253357>"
            ]
          },
          "metadata": {},
          "execution_count": 18
        }
      ]
    },
    {
      "cell_type": "code",
      "metadata": {
        "id": "2opnbA3KkdCS"
      },
      "source": [
        "pre_alpha = 6.00\n",
        "or_kernel = tf.constant([[-1.39,-1.27,-0.91,-1.18,-0.71,-0.96,-0.97,-1.34],\n",
        " [ 1.18, 0.94, 0.6 , 1.09, 0.73,-0.81, 0.7 , 0.76],\n",
        " [ 0.  , 0.99, 0.77, 0.7 , 0.84, 0.77, 1.09, 0.76],\n",
        " [ 0.75, 1.4 , 0.82, 0.65, 0.  , 0.79, 0.  , 0.84]])\n",
        "in_tensor = np.array([[[[-0.14315,  0.96605,  0.96558,  0.62979,  0.48423,  0.83906,  0.27991,  0.98363],\n",
        "         [-0.98642, -0.99877, -0.99847, -0.99187, -0.98435, -0.99993, -0.96311, -0.60664],\n",
        "         [-0.99969,  0.99423,  0.76752,  0.98772, -0.84165, -0.98961,  0.94269,  0.99059],\n",
        "         [-0.55655, -0.9964 ,  0.81429, -0.99452,  0.98392,  0.80459, -0.98978,  0.8857 ]],\n",
        "\n",
        "        [[ 0.82278,  0.85885,  0.9803 ,  0.93879,  0.81001,  0.35316, -0.32796,  0.98942],\n",
        "         [-0.99523, -0.99915, -0.99455, -0.91039, -0.81681, -0.99655, -0.99692,  0.26062],\n",
        "         [ 0.94675, -0.95318, -0.99127,  0.80519,  0.97603,  0.27773, -0.99944, -0.92331],\n",
        "         [-0.85248, -0.90856,  0.98953,  0.27601, -0.99934,  0.82296, -0.989  , -0.99986]]],\n",
        "\n",
        "\n",
        "       [[[ 0.26639, -0.98558, -0.01491, -0.30482, -0.95428, -0.99519, -0.96259, -0.78745],\n",
        "         [ 0.99574,  0.81324,  0.94441, -0.98715,  0.25731, -0.99999, -0.9581 , -0.91976],\n",
        "         [-0.9984 , -0.96708, -0.99932,  0.01094, -0.95271, -0.99864, -0.99937, -0.97461],\n",
        "         [ 0.38653, -0.84549,  0.90454, -0.97819, -0.92525,  0.82584, -0.96892, -0.99263]],\n",
        "\n",
        "        [[ 0.23114,  0.99771,  0.96252, -0.1702 ,  0.95645,  0.99231,  0.89215,  0.99008],\n",
        "         [-0.92271, -0.93723, -0.99728,  0.85294,  0.65302, -0.99797,  0.62944,  0.99593],\n",
        "         [-0.99995, -0.90932, -0.9984 , -0.08316, -0.9546 , -0.99981, -0.99841, -0.55042],\n",
        "         [ 0.29543, -0.31071,  0.94717, -0.99083, -0.56219,  0.98912, -0.99438, -0.78261]]],\n",
        "\n",
        "\n",
        "       [[[-0.82906, -0.26135, -0.17366, -0.65341, -0.96061, -0.80802, -0.8125 , -0.09048],\n",
        "         [-0.06078,  0.94288, -0.67384, -0.99369,  0.05594, -0.99908, -0.9327 , -0.65743],\n",
        "         [-0.87492,  0.128  , -0.83881,  0.97367,  0.56524, -0.93507, -0.49139,  0.67477],\n",
        "         [-0.901  , -0.99791, -0.40735, -0.96237, -0.99246, -0.47764, -1.     , -0.99968]],\n",
        "\n",
        "        [[-0.82616, -0.22848, -0.15605, -0.62105, -0.93721, -0.78818, -0.72783, -0.04234],\n",
        "         [-0.47886,  0.91901, -0.8499 , -0.99341, -0.05369, -0.99823, -0.88616, -0.56129],\n",
        "         [-0.89372,  0.00046, -0.90612,  0.97617,  0.60388, -0.95179, -0.492  ,  0.69684],\n",
        "         [-0.86535, -0.9979 , -0.28637, -0.95511, -0.99094, -0.40967, -1.     , -0.99965]]]], dtype=np.float32)\n",
        "in_tensor = tf.reduce_max(in_tensor, 1)\n",
        "mask = tf.cast(in_tensor > 0, tf.float32)\n",
        "in_tensor = mask - (1-mask)"
      ],
      "execution_count": 19,
      "outputs": []
    },
    {
      "cell_type": "code",
      "metadata": {
        "colab": {
          "base_uri": "https://localhost:8080/"
        },
        "id": "KwmMz_80O0im",
        "outputId": "cbb77d33-da05-4030-b195-14601061f38f"
      },
      "source": [
        "disjunction(in_tensor, or_kernel, pre_alpha)"
      ],
      "execution_count": 20,
      "outputs": [
        {
          "output_type": "execute_result",
          "data": {
            "text/plain": [
              "<tf.Tensor: shape=(3, 4), dtype=float32, numpy=\n",
              "array([[-6.0004654,  9.727797 , 51.352592 , 25.091576 ],\n",
              "       [ 3.9290771, 59.216827 ,  1.2521477, 17.623524 ],\n",
              "       [69.13106  , 18.33443  , 26.263437 , -6.000305 ]], dtype=float32)>"
            ]
          },
          "metadata": {},
          "execution_count": 20
        }
      ]
    },
    {
      "cell_type": "markdown",
      "metadata": {
        "id": "oE1GxihsV-uB"
      },
      "source": [
        "# Threshold and Prune\n",
        "\n",
        "I wanted to be able to extract the rules after the learning is complete. While the unbounded weights were working, there needed to be a way of extracting the symbolic counterpart. Afterall, the formulation of the bias was enforcing either a conjuntion or disjunction behaviour.\n",
        "\n",
        "But this proved more difficult because the magnitude of the weights were uneven and non-uniform. After many many different methods, I decided to converge to the simplest: threshold and then prune the weights against a validation dataset. Other methods included sampling based on magnitude, least general generaliser, another inner optimsation to find the best pruning etc. They were more costly than just thresholding too. I validated all these against the prediction accuracy although that is not shown here."
      ]
    },
    {
      "cell_type": "code",
      "metadata": {
        "colab": {
          "base_uri": "https://localhost:8080/"
        },
        "id": "0uvYLzO_Pqcg",
        "outputId": "0ed290db-3c7f-4a31-e230-9cd4f98e077d"
      },
      "source": [
        " def threshold_weight(weight: tf.Tensor, threshold: float = 0.01, constant_value: float = 1.0):\n",
        "        \"\"\"Threshold given weight by setting it to the given constant value.\"\"\"\n",
        "        # weight (...)\n",
        "        # We will set positive entries to constant_value and\n",
        "        # negative values to -constant value\n",
        "        pos_mask = tf.cast(weight > threshold, tf.float32)\n",
        "        neg_mask = tf.cast(weight < -threshold, tf.float32)\n",
        "        new_weight = pos_mask * constant_value - neg_mask * constant_value\n",
        "        # ---------------------------\n",
        "        return new_weight\n",
        "print(or_kernel)\n",
        "threshold_or_kernel = threshold_weight(or_kernel, constant_value=6.0)\n",
        "print(threshold_or_kernel)\n",
        "disjunction(in_tensor, threshold_or_kernel, pre_alpha)"
      ],
      "execution_count": 21,
      "outputs": [
        {
          "output_type": "stream",
          "name": "stdout",
          "text": [
            "tf.Tensor(\n",
            "[[-1.39 -1.27 -0.91 -1.18 -0.71 -0.96 -0.97 -1.34]\n",
            " [ 1.18  0.94  0.6   1.09  0.73 -0.81  0.7   0.76]\n",
            " [ 0.    0.99  0.77  0.7   0.84  0.77  1.09  0.76]\n",
            " [ 0.75  1.4   0.82  0.65  0.    0.79  0.    0.84]], shape=(4, 8), dtype=float32)\n",
            "tf.Tensor(\n",
            "[[-6. -6. -6. -6. -6. -6. -6. -6.]\n",
            " [ 6.  6.  6.  6.  6. -6.  6.  6.]\n",
            " [ 0.  6.  6.  6.  6.  6.  6.  6.]\n",
            " [ 6.  6.  6.  6.  0.  6.  0.  6.]], shape=(4, 8), dtype=float32)\n"
          ]
        },
        {
          "output_type": "execute_result",
          "data": {
            "text/plain": [
              "<tf.Tensor: shape=(3, 4), dtype=float32, numpy=\n",
              "array([[-6.000595 , 17.999405 , 77.99948  , 41.999554 ],\n",
              "       [ 5.999405 , 89.999405 ,  5.999481 , 29.999554 ],\n",
              "       [89.999405 , 29.999405 , 41.99948  , -6.0004463]], dtype=float32)>"
            ]
          },
          "metadata": {},
          "execution_count": 21
        }
      ]
    },
    {
      "cell_type": "markdown",
      "metadata": {
        "id": "ZUuCGEO9W_mE"
      },
      "source": [
        "# Conclusion\n",
        "\n",
        "I hope this notebook demonstrates that often the final version in the paper comes with many failed attemps and frustrations. I used this notebook and tested small ideas for at least 6 months. I hope you find it helpful too."
      ]
    },
    {
      "cell_type": "code",
      "metadata": {
        "id": "alCB4N-3XdE9"
      },
      "source": [
        ""
      ],
      "execution_count": null,
      "outputs": []
    }
  ]
}