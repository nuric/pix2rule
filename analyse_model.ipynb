{
 "cells": [
  {
   "cell_type": "markdown",
   "metadata": {},
   "source": [
    "# Example model loading and analysis\n",
    "This notebook demonstrates how to load a pretrained model and perform further analysis and checks."
   ]
  },
  {
   "cell_type": "code",
   "execution_count": 1,
   "metadata": {},
   "outputs": [],
   "source": [
    "# Collect imports\n",
    "from typing import Dict, Tuple, Any\n",
    "from pprint import pprint\n",
    "import json\n",
    "\n",
    "import tensorflow as tf\n",
    "import numpy as np\n",
    "import pandas as pd\n",
    "import matplotlib.pyplot as plt\n",
    "import seaborn as sns\n",
    "\n",
    "import mlflow\n",
    "from mlflow.tracking import MlflowClient\n",
    "\n",
    "from components.dnf_layer import WeightedDNF\n",
    "\n",
    "import utils.analysis\n",
    "import utils.clingo\n",
    "\n",
    "np.set_printoptions(suppress=True, precision=5, linewidth=120)"
   ]
  },
  {
   "cell_type": "code",
   "execution_count": 2,
   "metadata": {},
   "outputs": [
    {
     "name": "stdout",
     "output_type": "stream",
     "text": [
      "['relsgame-predinet-20210429-121731', 'relsgame-dnf-20210429-121731', 'gendnf-ilp-20210503-164950', 'gendnf-deep-20210428-230630', 'relsgame-recon_dnf-20210511-215943']\n"
     ]
    }
   ],
   "source": [
    "# Setup mlflow client\n",
    "mlclient = MlflowClient(tracking_uri=\"http://localhost:8888\") # Emptry string for local\n",
    "exp_list = [x.name for x in mlclient.list_experiments()]\n",
    "print(exp_list)"
   ]
  },
  {
   "cell_type": "code",
   "execution_count": 3,
   "metadata": {},
   "outputs": [
    {
     "name": "stdout",
     "output_type": "stream",
     "text": [
      "Experiment Name: relsgame-recon_dnf-20210511-215943\n",
      "Collecting artifacts for run: 8f7f23d93d94487fbdc5ea36c203c335\n",
      "{'data': {'metrics': {'epoch': 149.0,\n",
      "                      'test_hexos_loss': 0.019202135503292084,\n",
      "                      'test_hexos_nullary_acc': 0.9950000047683716,\n",
      "                      'test_hexos_nullary_loss': 0.012011142447590828,\n",
      "                      'test_hexos_recon_loss': 0.007190990261733532,\n",
      "                      'test_hexos_recon_mae': 0.029814941808581352,\n",
      "                      'test_pentos_loss': 0.027659451588988304,\n",
      "                      'test_pentos_nullary_acc': 0.9919999837875366,\n",
      "                      'test_pentos_nullary_loss': 0.026043063029646873,\n",
      "                      'test_pentos_recon_loss': 0.0016163942636922002,\n",
      "                      'test_pentos_recon_mae': 0.011510365642607212,\n",
      "                      'test_stripes_loss': 0.15420617163181305,\n",
      "                      'test_stripes_nullary_acc': 0.9909999966621399,\n",
      "                      'test_stripes_nullary_loss': 0.03997662290930748,\n",
      "                      'test_stripes_recon_loss': 0.11422955989837646,\n",
      "                      'test_stripes_recon_mae': 0.13385647535324097,\n",
      "                      'time': 14.224395036697388,\n",
      "                      'train_dnf_layer/success_threshold': 1.0,\n",
      "                      'train_loss': 0.027398675680160522,\n",
      "                      'train_nullary_acc': 0.9911114573478699,\n",
      "                      'train_nullary_loss': 0.02472049370408058,\n",
      "                      'train_object_selector/temperature': 0.009999999776482582,\n",
      "                      'train_recon_loss': 0.002678174991160631,\n",
      "                      'train_recon_mae': 0.013074344024062157,\n",
      "                      'validation_loss': 0.030458806082606316,\n",
      "                      'validation_nullary_acc': 0.9919999837875366,\n",
      "                      'validation_nullary_loss': 0.02896002121269703,\n",
      "                      'validation_recon_loss': 0.0014987797476351261,\n",
      "                      'validation_recon_mae': 0.011478456668555737},\n",
      "          'params': {'config_json': 'data/experiments.json.6218a9cd0485c46c1af809a6e88e76b9',\n",
      "                     'data_dir': 'data',\n",
      "                     'dataset_name': 'relsgame',\n",
      "                     'debug': 'False',\n",
      "                     'dnf_image_classifier_hidden_arities': '[]',\n",
      "                     'dnf_image_classifier_hidden_layer_name': 'WeightedDNF',\n",
      "                     'dnf_image_classifier_hidden_num_conjuncts': '4',\n",
      "                     'dnf_image_classifier_hidden_num_total_variables': '2',\n",
      "                     'dnf_image_classifier_hidden_recursive': 'False',\n",
      "                     'dnf_image_classifier_image_activation': 'relu',\n",
      "                     'dnf_image_classifier_image_hidden_size': '32',\n",
      "                     'dnf_image_classifier_image_layer_name': 'RelationsGameImageInput',\n",
      "                     'dnf_image_classifier_image_with_position': 'True',\n",
      "                     'dnf_image_classifier_inference_arities': '[]',\n",
      "                     'dnf_image_classifier_inference_layer_name': 'WeightedDNF',\n",
      "                     'dnf_image_classifier_inference_num_conjuncts': '8',\n",
      "                     'dnf_image_classifier_inference_num_total_variables': '3',\n",
      "                     'dnf_image_classifier_inference_recursive': 'False',\n",
      "                     'dnf_image_classifier_iterations': '1',\n",
      "                     'dnf_image_classifier_object_feat_activation': 'tanh',\n",
      "                     'dnf_image_classifier_object_feat_binary_size': '16',\n",
      "                     'dnf_image_classifier_object_feat_layer_name': 'LinearObjectFeatures',\n",
      "                     'dnf_image_classifier_object_feat_unary_size': '8',\n",
      "                     'dnf_image_classifier_object_sel_initial_temperature': '0.5',\n",
      "                     'dnf_image_classifier_object_sel_layer_name': 'RelaxedObjectSelection',\n",
      "                     'dnf_image_classifier_object_sel_num_select': '3',\n",
      "                     'dnf_rule_learner_inference_arities': '[0]',\n",
      "                     'dnf_rule_learner_inference_layer_name': 'WeightedDNF',\n",
      "                     'dnf_rule_learner_inference_num_conjuncts': '8',\n",
      "                     'dnf_rule_learner_inference_num_total_variables': '2',\n",
      "                     'dnf_rule_learner_inference_recursive': 'False',\n",
      "                     'eval_every': '200',\n",
      "                     'experiment_name': 'relsgame-recon_dnf-20210511-215943',\n",
      "                     'gendnf_batch_size': '64',\n",
      "                     'gendnf_gen_size': '10000',\n",
      "                     'gendnf_input_noise_probability': '0.0',\n",
      "                     'gendnf_num_binary': '8',\n",
      "                     'gendnf_num_conjuncts': '4',\n",
      "                     'gendnf_num_nullary': '6',\n",
      "                     'gendnf_num_objects': '4',\n",
      "                     'gendnf_num_unary': '7',\n",
      "                     'gendnf_num_variables': '3',\n",
      "                     'gendnf_return_numpy': 'False',\n",
      "                     'gendnf_rng_seed': '42',\n",
      "                     'gendnf_target_arity': '0',\n",
      "                     'gendnf_test_size': '1000',\n",
      "                     'gendnf_train_size': '1000',\n",
      "                     'gendnf_validation_size': '1000',\n",
      "                     'learning_rate': '0.001',\n",
      "                     'max_steps': '30000',\n",
      "                     'mlp_image_classifier_hidden_activations': \"['relu']\",\n",
      "                     'mlp_image_classifier_hidden_sizes': '[120, 120]',\n",
      "                     'mlp_image_classifier_image_activation': 'relu',\n",
      "                     'mlp_image_classifier_image_hidden_size': '32',\n",
      "                     'mlp_image_classifier_image_layer_name': 'RelationsGameImageInput',\n",
      "                     'mlp_image_classifier_image_with_position': 'False',\n",
      "                     'model_name': 'dnf_image_classifier',\n",
      "                     'nickname': 'recon_dnf_image_classifier',\n",
      "                     'predinet_heads': '7',\n",
      "                     'predinet_image_activation': 'relu',\n",
      "                     'predinet_image_hidden_size': '32',\n",
      "                     'predinet_image_layer_name': 'RelationsGameImageInput',\n",
      "                     'predinet_image_with_position': 'False',\n",
      "                     'predinet_key_size': '4',\n",
      "                     'predinet_output_hidden_size': '8',\n",
      "                     'predinet_relations': '16',\n",
      "                     'relsgame_batch_size': '64',\n",
      "                     'relsgame_noise_stddev': '0.01',\n",
      "                     'relsgame_output_type': 'label_and_image',\n",
      "                     'relsgame_rng_seed': '42',\n",
      "                     'relsgame_task_nickname': 'between',\n",
      "                     'relsgame_tasks': \"['between']\",\n",
      "                     'relsgame_test_size': '1000',\n",
      "                     'relsgame_train_size': '1000',\n",
      "                     'relsgame_validation_size': '1000',\n",
      "                     'relsgame_with_augmentation': 'True',\n",
      "                     'run_count': '4',\n",
      "                     'slotae_image_activation': 'relu',\n",
      "                     'slotae_image_hidden_size': '32',\n",
      "                     'slotae_image_layer_name': 'RelationsGameImageInput',\n",
      "                     'slotae_image_with_position': 'False',\n",
      "                     'tracking_uri': 'http://muli.doc.ic.ac.uk:8888',\n",
      "                     'train_type': 'deep'},\n",
      "          'tags': {'Err': 'data/outs/78-161.err',\n",
      "                   'GlobalJobId': 'muli.doc.ic.ac.uk#78.161#1620766865',\n",
      "                   'Out': 'data/outs/78-161.out',\n",
      "                   'UserLog': '/homes/nuric/phd/pix2rule/data/outs/78-161.log',\n",
      "                   'config_hash': '87ed0716fc21afcff23eeaf7d98108d2',\n",
      "                   'hostname': 'edge26.doc.ic.ac.uk',\n",
      "                   'mlflow.source.git.commit': 'a658c9444c8cfce432718229c2f56cf2bac5a377',\n",
      "                   'mlflow.source.name': 'train.py',\n",
      "                   'mlflow.source.type': 'LOCAL',\n",
      "                   'mlflow.user': 'nuric',\n",
      "                   'num_params': '62283'}},\n",
      " 'info': {'artifact_uri': '/homes/nuric/phd/pix2rule/data/artifacts/47/8f7f23d93d94487fbdc5ea36c203c335/artifacts',\n",
      "          'end_time': 1620769066624,\n",
      "          'experiment_id': '47',\n",
      "          'lifecycle_stage': 'active',\n",
      "          'run_id': '8f7f23d93d94487fbdc5ea36c203c335',\n",
      "          'run_uuid': '8f7f23d93d94487fbdc5ea36c203c335',\n",
      "          'start_time': 1620766972588,\n",
      "          'status': 'FINISHED',\n",
      "          'user_id': 'nuric'}}\n",
      "[<FileInfo: file_size=5142, is_dir=False, path='model_summary.txt'>,\n",
      " <FileInfo: file_size=None, is_dir=True, path='models'>,\n",
      " <FileInfo: file_size=122790, is_dir=False, path='pruning_info.json'>,\n",
      " <FileInfo: file_size=834, is_dir=False, path='task_description.json'>,\n",
      " <FileInfo: file_size=591388, is_dir=False, path='test_hexos_report.npz'>,\n",
      " <FileInfo: file_size=587954, is_dir=False, path='test_pentos_report.npz'>,\n",
      " <FileInfo: file_size=600320, is_dir=False, path='test_stripes_report.npz'>,\n",
      " <FileInfo: file_size=645528, is_dir=False, path='train_report.npz'>,\n",
      " <FileInfo: file_size=588160, is_dir=False, path='validation_report.npz'>]\n"
     ]
    }
   ],
   "source": [
    "# Gather a specific run\n",
    "#exp_name = exp_list[-1]\n",
    "exp_name = \"relsgame-recon_dnf-20210511-215943\"\n",
    "print(\"Experiment Name:\", exp_name)\n",
    "#all_runs = [r.info.run_id for r in mlclient.search_runs(mlclient.get_experiment_by_name(exp_name).experiment_id)]\n",
    "#print(all_runs)\n",
    "#run_id = all_runs[-1]\n",
    "run_id = \"8f7f23d93d94487fbdc5ea36c203c335\"\n",
    "print(\"Collecting artifacts for run:\", run_id)\n",
    "mlrun = mlclient.get_run(run_id)\n",
    "pprint(mlrun.to_dictionary())\n",
    "pprint(mlclient.list_artifacts(run_id))"
   ]
  },
  {
   "cell_type": "code",
   "execution_count": 4,
   "metadata": {
    "tags": []
   },
   "outputs": [
    {
     "data": {
      "text/plain": [
       "dict_keys(['test_hexos', 'test_pentos', 'test_stripes', 'train', 'validation'])"
      ]
     },
     "execution_count": 4,
     "metadata": {},
     "output_type": "execute_result"
    }
   ],
   "source": [
    "# Load the dataset batches for quick evaluation\n",
    "npz_files = [artifact.path for artifact in mlclient.list_artifacts(run_id) if artifact.path.endswith('.npz')]\n",
    "data_reports = {'_'.join(fname.split('_')[:-1]): utils.analysis.load_artifact(run_id, fname, mlclient) for fname in npz_files}\n",
    "# The data format is a tuple of dictionaries\n",
    "datasets = dict()\n",
    "for dname, dreport in data_reports.items():\n",
    "    # dname is train, test_hexos etc.\n",
    "    # dreport contians reported batches and model outputs\n",
    "    # such as attention maps etc.\n",
    "    input_dict, output_dict = dict(), dict()\n",
    "    for k, v in dreport.items():\n",
    "        # in_image, out_label etc.\n",
    "        if k.startswith('in'):\n",
    "            input_dict[k[3:]] = v\n",
    "        elif k.startswith('out'):\n",
    "            output_dict[k[4:]] = v\n",
    "    datasets[dname] = tf.data.Dataset.from_tensor_slices((input_dict, output_dict)).batch(v.shape[0])\n",
    "# Note that for the relations game datasets, the train is a repeated datasets that loops forever\n",
    "datasets.keys()"
   ]
  },
  {
   "cell_type": "code",
   "execution_count": 5,
   "metadata": {},
   "outputs": [
    {
     "name": "stdout",
     "output_type": "stream",
     "text": [
      "WARNING:tensorflow:Compiled the loaded model, but the compiled metrics have yet to be built. `model.compile_metrics` will be empty until you train or evaluate the model.\n",
      "Number of parameters: 62283\n"
     ]
    }
   ],
   "source": [
    "# Let's load the checkpointed model\n",
    "models_dir = mlclient.download_artifacts(run_id, 'models')\n",
    "dnf_model = tf.keras.models.load_model(models_dir + '/latest_model')\n",
    "print(\"Number of parameters:\", dnf_model.count_params())\n",
    "dnf_model.compile(loss={'label': tf.keras.losses.BinaryCrossentropy(from_logits=True)}, metrics={'label': tf.keras.metrics.BinaryAccuracy('acc', threshold=0.0)})"
   ]
  },
  {
   "cell_type": "code",
   "execution_count": 6,
   "metadata": {},
   "outputs": [
    {
     "name": "stdout",
     "output_type": "stream",
     "text": [
      "1/1 [==============================] - 0s 417ms/step - loss: 0.0026 - nullary_loss: 0.0026 - nullary_acc: 1.0000\n"
     ]
    },
    {
     "data": {
      "text/plain": [
       "{'loss': 0.002586615039035678,\n",
       " 'nullary_loss': 0.002586615039035678,\n",
       " 'nullary_acc': 1.0}"
      ]
     },
     "execution_count": 6,
     "metadata": {},
     "output_type": "execute_result"
    }
   ],
   "source": [
    "# Lets evaluate the model on the test hexos batch\n",
    "dnf_model.evaluate(datasets['test_hexos'], verbose=1, return_dict=True)"
   ]
  },
  {
   "cell_type": "code",
   "execution_count": 7,
   "metadata": {},
   "outputs": [
    {
     "data": {
      "text/plain": [
       "dict_keys(['image', 'label'])"
      ]
     },
     "execution_count": 7,
     "metadata": {},
     "output_type": "execute_result"
    }
   ],
   "source": [
    "# We can also ask it for the predictions, note if it is an image reconstruction model\n",
    "# we will obtain {'image': (batch_size, ...), 'label': (batch_size,)}, otherwise just label\n",
    "dnf_model.predict(datasets['test_hexos'], verbose=0).keys()"
   ]
  },
  {
   "cell_type": "code",
   "execution_count": 8,
   "metadata": {},
   "outputs": [
    {
     "data": {
      "text/plain": [
       "['in_image',\n",
       " 'out_image',\n",
       " 'out_label',\n",
       " 'object_sel_object_scores',\n",
       " 'object_sel_object_atts',\n",
       " 'object_sel_objects',\n",
       " 'report_layer_unary',\n",
       " 'report_layer_binary',\n",
       " 'report_layer_nullary',\n",
       " 'facts0_nullary',\n",
       " 'facts0_unary',\n",
       " 'facts0_binary',\n",
       " 'facts0_or_kernel',\n",
       " 'facts0_conjuncts',\n",
       " 'facts0_and_kernel',\n",
       " 'recon_combined',\n",
       " 'recon_recon_masks',\n",
       " 'recon_reconstructions',\n",
       " 'prediction_image',\n",
       " 'prediction_label']"
      ]
     },
     "execution_count": 8,
     "metadata": {},
     "output_type": "execute_result"
    }
   ],
   "source": [
    "# These are the all the intermediate reports, such as attention maps, features etc.\n",
    "data_reports['test_hexos'].files"
   ]
  },
  {
   "cell_type": "code",
   "execution_count": 9,
   "metadata": {},
   "outputs": [
    {
     "data": {
      "text/plain": [
       "<AxesSubplot:ylabel='Count'>"
      ]
     },
     "execution_count": 9,
     "metadata": {},
     "output_type": "execute_result"
    },
    {
     "data": {
      "image/png": "[encoded data removed]",
      "text/plain": [
       "<Figure size 432x288 with 1 Axes>"
      ]
     },
     "metadata": {
      "needs_background": "light"
     },
     "output_type": "display_data"
    }
   ],
   "source": [
    "# Here are the weights kernel histogram\n",
    "sns.histplot(data=data_reports['test_hexos']['facts0_and_kernel'].flatten())"
   ]
  },
  {
   "cell_type": "code",
   "execution_count": 10,
   "metadata": {},
   "outputs": [
    {
     "data": {
      "text/plain": [
       "array([[ 7.02416],\n",
       "       [ 7.82561],\n",
       "       [ 7.94817],\n",
       "       [ 7.95645],\n",
       "       [10.73285],\n",
       "       [ 9.43431],\n",
       "       [-6.17754],\n",
       "       [10.20865],\n",
       "       [-5.96961],\n",
       "       [-6.48949]], dtype=float32)"
      ]
     },
     "execution_count": 10,
     "metadata": {},
     "output_type": "execute_result"
    }
   ],
   "source": [
    "# These are the reported prediction values after the training is complete\n",
    "data_reports['test_hexos']['prediction_label'][:10]"
   ]
  },
  {
   "cell_type": "code",
   "execution_count": 11,
   "metadata": {},
   "outputs": [
    {
     "data": {
      "text/plain": [
       "array([[ 7.02416],\n",
       "       [ 7.87824],\n",
       "       [ 7.94817],\n",
       "       [ 7.9571 ],\n",
       "       [10.73285],\n",
       "       [ 9.43431],\n",
       "       [-6.17754],\n",
       "       [10.20864],\n",
       "       [-5.96961],\n",
       "       [-6.48949]], dtype=float32)"
      ]
     },
     "execution_count": 11,
     "metadata": {},
     "output_type": "execute_result"
    }
   ],
   "source": [
    "# Which should be very similar to the dnf_model, note they can vary since the object selection is stochastic\n",
    "dnf_model.predict(datasets['test_hexos'], verbose=0)['label'][:10]"
   ]
  },
  {
   "cell_type": "code",
   "execution_count": 12,
   "metadata": {},
   "outputs": [
    {
     "data": {
      "text/plain": [
       "<AxesSubplot:ylabel='Count'>"
      ]
     },
     "execution_count": 12,
     "metadata": {},
     "output_type": "execute_result"
    },
    {
     "data": {
      "image/png": "[encoded data removed]",
      "text/plain": [
       "<Figure size 432x288 with 1 Axes>"
      ]
     },
     "metadata": {
      "needs_background": "light"
     },
     "output_type": "display_data"
    }
   ],
   "source": [
    "# These are the relations computed between the objects\n",
    "sns.histplot(data=data_reports['test_hexos']['report_layer_binary'].flatten())"
   ]
  },
  {
   "cell_type": "code",
   "execution_count": 13,
   "metadata": {},
   "outputs": [
    {
     "data": {
      "text/plain": [
       "<AxesSubplot:ylabel='Count'>"
      ]
     },
     "execution_count": 13,
     "metadata": {},
     "output_type": "execute_result"
    },
    {
     "data": {
      "image/png": "[encoded data removed]",
      "text/plain": [
       "<Figure size 432x288 with 1 Axes>"
      ]
     },
     "metadata": {
      "needs_background": "light"
     },
     "output_type": "display_data"
    }
   ],
   "source": [
    "# These are the outputs of the conjunctive SL post existential reduction using the max operator\n",
    "# the max(1) reduces the permutations\n",
    "sns.histplot(data=data_reports['test_hexos']['facts0_conjuncts'].max(1).flatten())"
   ]
  },
  {
   "cell_type": "code",
   "execution_count": 14,
   "metadata": {},
   "outputs": [
    {
     "data": {
      "text/plain": [
       "array([[ 1.55504, -1.7244 ,  7.44871, -2.22057, -2.27163,  2.75774, -1.45883,  1.74555]], dtype=float32)"
      ]
     },
     "execution_count": 14,
     "metadata": {},
     "output_type": "execute_result"
    }
   ],
   "source": [
    "# This is the actual weight used in the disjunctive SL, or_kernel\n",
    "data_reports['test_hexos']['facts0_or_kernel']"
   ]
  },
  {
   "cell_type": "code",
   "execution_count": 15,
   "metadata": {},
   "outputs": [
    {
     "data": {
      "text/plain": [
       "(1, 8, 120)"
      ]
     },
     "execution_count": 15,
     "metadata": {},
     "output_type": "execute_result"
    }
   ],
   "source": [
    "# Similarly you can find the conjunctive SL kernel here\n",
    "data_reports['test_hexos']['facts0_and_kernel'].shape"
   ]
  }
 ],
 "metadata": {
  "kernelspec": {
   "display_name": "Muli Python 3",
   "language": "python",
   "name": "python3"
  },
  "language_info": {
   "codemirror_mode": {
    "name": "ipython",
    "version": 3
   },
   "file_extension": ".py",
   "mimetype": "text/x-python",
   "name": "python",
   "nbconvert_exporter": "python",
   "pygments_lexer": "ipython3",
   "version": "3.8.5"
  }
 },
 "nbformat": 4,
 "nbformat_minor": 4
}
