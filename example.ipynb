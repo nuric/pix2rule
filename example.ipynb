{
 "cells": [
  {
   "cell_type": "markdown",
   "metadata": {},
   "source": [
    "# Gym Environment Example\n",
    "Basic run of a gym environment to collect and plot traces."
   ]
  },
  {
   "cell_type": "code",
   "execution_count": 1,
   "metadata": {},
   "outputs": [
    {
     "name": "stdout",
     "output_type": "stream",
     "text": [
      "Observation:\n",
      "Box(4,)\n",
      "Action:\n",
      "Discrete(2)\n",
      "Episode 0 finished after 19 timesteps\n",
      "Episode 1 finished after 19 timesteps\n"
     ]
    },
    {
     "data": {
      "text/html": [
       "<div>\n",
       "<style scoped>\n",
       "    .dataframe tbody tr th:only-of-type {\n",
       "        vertical-align: middle;\n",
       "    }\n",
       "\n",
       "    .dataframe tbody tr th {\n",
       "        vertical-align: top;\n",
       "    }\n",
       "\n",
       "    .dataframe thead th {\n",
       "        text-align: right;\n",
       "    }\n",
       "</style>\n",
       "<table border=\"1\" class=\"dataframe\">\n",
       "  <thead>\n",
       "    <tr style=\"text-align: right;\">\n",
       "      <th></th>\n",
       "      <th>Cart Position</th>\n",
       "      <th>Cart Velocity</th>\n",
       "      <th>Pole Angle</th>\n",
       "      <th>Pole Tip Vel</th>\n",
       "      <th>Episode</th>\n",
       "      <th>Time Step</th>\n",
       "    </tr>\n",
       "  </thead>\n",
       "  <tbody>\n",
       "    <tr>\n",
       "      <th>9</th>\n",
       "      <td>0.082302</td>\n",
       "      <td>0.176452</td>\n",
       "      <td>-0.099368</td>\n",
       "      <td>-0.290622</td>\n",
       "      <td>0</td>\n",
       "      <td>9</td>\n",
       "    </tr>\n",
       "    <tr>\n",
       "      <th>17</th>\n",
       "      <td>0.127044</td>\n",
       "      <td>0.191254</td>\n",
       "      <td>-0.189728</td>\n",
       "      <td>-0.626328</td>\n",
       "      <td>0</td>\n",
       "      <td>17</td>\n",
       "    </tr>\n",
       "    <tr>\n",
       "      <th>16</th>\n",
       "      <td>0.119371</td>\n",
       "      <td>0.383659</td>\n",
       "      <td>-0.172525</td>\n",
       "      <td>-0.860181</td>\n",
       "      <td>0</td>\n",
       "      <td>16</td>\n",
       "    </tr>\n",
       "    <tr>\n",
       "      <th>12</th>\n",
       "      <td>-0.002597</td>\n",
       "      <td>-0.769622</td>\n",
       "      <td>0.004373</td>\n",
       "      <td>1.121342</td>\n",
       "      <td>1</td>\n",
       "      <td>12</td>\n",
       "    </tr>\n",
       "    <tr>\n",
       "      <th>9</th>\n",
       "      <td>0.020198</td>\n",
       "      <td>-0.185178</td>\n",
       "      <td>-0.028498</td>\n",
       "      <td>0.263710</td>\n",
       "      <td>1</td>\n",
       "      <td>9</td>\n",
       "    </tr>\n",
       "  </tbody>\n",
       "</table>\n",
       "</div>"
      ],
      "text/plain": [
       "    Cart Position  Cart Velocity  Pole Angle  Pole Tip Vel  Episode  Time Step\n",
       "9        0.082302       0.176452   -0.099368     -0.290622        0          9\n",
       "17       0.127044       0.191254   -0.189728     -0.626328        0         17\n",
       "16       0.119371       0.383659   -0.172525     -0.860181        0         16\n",
       "12      -0.002597      -0.769622    0.004373      1.121342        1         12\n",
       "9        0.020198      -0.185178   -0.028498      0.263710        1          9"
      ]
     },
     "execution_count": 1,
     "metadata": {},
     "output_type": "execute_result"
    }
   ],
   "source": [
    "import numpy as np\n",
    "import pandas as pd\n",
    "import matplotlib.pyplot as plt\n",
    "import seaborn as sns\n",
    "import gym\n",
    "\n",
    "# Disable scientific printing\n",
    "np.set_printoptions(threshold=10000, suppress=True, precision=5, linewidth=180)\n",
    "\n",
    "env = gym.make('CartPole-v1')\n",
    "print(\"Observation:\")\n",
    "print(env.observation_space)\n",
    "print(\"Action:\")\n",
    "print(env.action_space)\n",
    "\n",
    "ep_obs = list()\n",
    "\n",
    "for k in range(2):\n",
    "  obs = list()\n",
    "  observation: np.ndarray = env.reset()\n",
    "  obs.append(observation)\n",
    "  for t in range(100):\n",
    "    # env.render()\n",
    "    action = env.action_space.sample()\n",
    "    observation, reward, done, info = env.step(action)\n",
    "    obs.append(observation)\n",
    "    if done:\n",
    "      print(f\"Episode {k} finished after {t+1} timesteps\")\n",
    "      break\n",
    "  # Curate episode observations\n",
    "  obs = pd.DataFrame(obs, columns=['Cart Position', 'Cart Velocity', 'Pole Angle', 'Pole Tip Vel'])\n",
    "  obs['Episode'] = k\n",
    "  obs['Time Step'] = np.arange(len(obs))\n",
    "  ep_obs.append(obs)\n",
    "env.close()\n",
    "\n",
    "ep_obs = pd.concat(ep_obs)\n",
    "ep_obs.sample(5)"
   ]
  },
  {
   "cell_type": "code",
   "execution_count": 2,
   "metadata": {},
   "outputs": [
    {
     "data": {
      "text/html": [
       "<div>\n",
       "<style scoped>\n",
       "    .dataframe tbody tr th:only-of-type {\n",
       "        vertical-align: middle;\n",
       "    }\n",
       "\n",
       "    .dataframe tbody tr th {\n",
       "        vertical-align: top;\n",
       "    }\n",
       "\n",
       "    .dataframe thead th {\n",
       "        text-align: right;\n",
       "    }\n",
       "</style>\n",
       "<table border=\"1\" class=\"dataframe\">\n",
       "  <thead>\n",
       "    <tr style=\"text-align: right;\">\n",
       "      <th></th>\n",
       "      <th>Episode</th>\n",
       "      <th>Time Step</th>\n",
       "      <th>Observation</th>\n",
       "      <th>Value</th>\n",
       "    </tr>\n",
       "  </thead>\n",
       "  <tbody>\n",
       "    <tr>\n",
       "      <th>116</th>\n",
       "      <td>1</td>\n",
       "      <td>16</td>\n",
       "      <td>Pole Angle</td>\n",
       "      <td>0.118260</td>\n",
       "    </tr>\n",
       "    <tr>\n",
       "      <th>52</th>\n",
       "      <td>0</td>\n",
       "      <td>12</td>\n",
       "      <td>Cart Velocity</td>\n",
       "      <td>0.375911</td>\n",
       "    </tr>\n",
       "    <tr>\n",
       "      <th>38</th>\n",
       "      <td>1</td>\n",
       "      <td>18</td>\n",
       "      <td>Cart Position</td>\n",
       "      <td>-0.130207</td>\n",
       "    </tr>\n",
       "    <tr>\n",
       "      <th>98</th>\n",
       "      <td>0</td>\n",
       "      <td>18</td>\n",
       "      <td>Pole Angle</td>\n",
       "      <td>-0.202255</td>\n",
       "    </tr>\n",
       "    <tr>\n",
       "      <th>23</th>\n",
       "      <td>1</td>\n",
       "      <td>3</td>\n",
       "      <td>Cart Position</td>\n",
       "      <td>0.015254</td>\n",
       "    </tr>\n",
       "  </tbody>\n",
       "</table>\n",
       "</div>"
      ],
      "text/plain": [
       "     Episode  Time Step    Observation     Value\n",
       "116        1         16     Pole Angle  0.118260\n",
       "52         0         12  Cart Velocity  0.375911\n",
       "38         1         18  Cart Position -0.130207\n",
       "98         0         18     Pole Angle -0.202255\n",
       "23         1          3  Cart Position  0.015254"
      ]
     },
     "execution_count": 2,
     "metadata": {},
     "output_type": "execute_result"
    }
   ],
   "source": [
    "melted_ep = pd.melt(ep_obs, id_vars=['Episode', 'Time Step'],\n",
    "                 value_vars=['Cart Position', 'Cart Velocity', 'Pole Angle', 'Pole Tip Vel'],\n",
    "                 var_name='Observation',\n",
    "                 value_name='Value')\n",
    "melted_ep['Type'] = np.where(melted_op['Observation'])\n",
    "melted_ep.sample(5)"
   ]
  },
  {
   "cell_type": "code",
   "execution_count": 3,
   "metadata": {},
   "outputs": [
    {
     "data": {
      "image/png": "[encoded data removed]",
      "text/plain": [
       "<Figure size 819.375x360 with 2 Axes>"
      ]
     },
     "metadata": {
      "needs_background": "light"
     },
     "output_type": "display_data"
    }
   ],
   "source": [
    "g = sns.relplot(x='Time Step', y='Value', hue='Observation', col='Episode', data=melted_ep)\n",
    "g.savefig(\"example_plot.pdf\", bbox_inches='tight')"
   ]
  },
  {
   "cell_type": "code",
   "execution_count": 8,
   "metadata": {},
   "outputs": [
    {
     "data": {
      "text/plain": [
       "0      Cart Position\n",
       "1      Cart Position\n",
       "2      Cart Position\n",
       "3      Cart Position\n",
       "4      Cart Position\n",
       "           ...      \n",
       "155     Pole Tip Vel\n",
       "156     Pole Tip Vel\n",
       "157     Pole Tip Vel\n",
       "158     Pole Tip Vel\n",
       "159     Pole Tip Vel\n",
       "Name: Observation, Length: 160, dtype: object"
      ]
     },
     "execution_count": 8,
     "metadata": {},
     "output_type": "execute_result"
    }
   ],
   "source": [
    "melted_ep['Observation'].map()"
   ]
  },
  {
   "cell_type": "code",
   "execution_count": null,
   "metadata": {},
   "outputs": [],
   "source": []
  }
 ],
 "metadata": {
  "kernelspec": {
   "display_name": "Python 3",
   "language": "python",
   "name": "python3"
  },
  "language_info": {
   "codemirror_mode": {
    "name": "ipython",
    "version": 3
   },
   "file_extension": ".py",
   "mimetype": "text/x-python",
   "name": "python",
   "nbconvert_exporter": "python",
   "pygments_lexer": "ipython3",
   "version": "3.6.9"
  }
 },
 "nbformat": 4,
 "nbformat_minor": 4
}
